{
 "cells": [
  {
   "cell_type": "code",
   "execution_count": 4,
   "metadata": {},
   "outputs": [],
   "source": [
    "\"\"\"\n",
    "This is a heavily documented notebook with exploratory data analyses for Telegram Channel Archive project\n",
    "https://github.com/githubbar/telegram_channel_archive\n",
    "\n",
    "\n",
    "For working with the SQLite backend we are choosing Ibis over Pandas for data analysis because it does execuste a lot of stuff at the backend and is therefore more suitable for large databases.\n",
    "see: https://voltrondata.com/blog/ibis-explained-making-dataframes-big-and-small-more-delightful\n",
    "\"\"\" \n",
    "\n",
    "# TEMP: conda activate /N/slate/oleykin/.conda/envs/tele\n",
    "# TEMP: conda list -e > requirements.txt\n",
    "\n",
    "\"\"\"Connect to SQLite DB\"\"\"\n",
    "import os\n",
    "os.environ['OPENBLAS_NUM_THREADS'] = '1'\n",
    "import numpy as np\n",
    "import ibis\n",
    "\n",
    "ibis.options.interactive = True\n",
    "ibis.options.repr.interactive.max_rows = 20\n",
    "\n",
    "con = ibis.sqlite.connect('db.sqlite')\n",
    "# con.list_tables()\n",
    "\n",
    "channel  = con.table('channel')\n",
    "msg = con.table('message')\n"
   ]
  },
  {
   "cell_type": "code",
   "execution_count": 15,
   "metadata": {},
   "outputs": [
    {
     "name": "stdout",
     "output_type": "stream",
     "text": [
      "Date ranges for 2022\n"
     ]
    },
    {
     "data": {
      "text/html": [
       "<pre style=\"white-space:pre;overflow-x:auto;line-height:normal;font-family:Menlo,'DejaVu Sans Mono',consolas,'Courier New',monospace\"></pre>\n"
      ],
      "text/plain": []
     },
     "metadata": {},
     "output_type": "display_data"
    },
    {
     "name": "stdout",
     "output_type": "stream",
     "text": [
      "┏━━━━━━━━━━━━━━━━━━━━━━━━━━━━━━━━━━━━━━━━┳━━━━━━━━━━━━━━━━━━━━━┳━━━━━━━━━━━━━━━━━━━━━┓\n",
      "┃\u001b[1m \u001b[0m\u001b[1mtitle\u001b[0m\u001b[1m                                 \u001b[0m\u001b[1m \u001b[0m┃\u001b[1m \u001b[0m\u001b[1mmin_time\u001b[0m\u001b[1m           \u001b[0m\u001b[1m \u001b[0m┃\u001b[1m \u001b[0m\u001b[1mmax_time\u001b[0m\u001b[1m           \u001b[0m\u001b[1m \u001b[0m┃\n",
      "┡━━━━━━━━━━━━━━━━━━━━━━━━━━━━━━━━━━━━━━━━╇━━━━━━━━━━━━━━━━━━━━━╇━━━━━━━━━━━━━━━━━━━━━┩\n",
      "│ \u001b[2mstring\u001b[0m                                 │ \u001b[2mtimestamp\u001b[0m           │ \u001b[2mtimestamp\u001b[0m           │\n",
      "├────────────────────────────────────────┼─────────────────────┼─────────────────────┤\n",
      "│ \u001b[32mЗЕЛЕНАЯ ЛЕНТА                         \u001b[0m │ \u001b[35m2022-02-27 11:36:52\u001b[0m │ \u001b[35m2022-06-06 16:25:29\u001b[0m │\n",
      "│ \u001b[32mМедиа Партизаны | Нет войне           \u001b[0m │ \u001b[35m2022-03-15 18:46:22\u001b[0m │ \u001b[35m2022-06-22 13:45:39\u001b[0m │\n",
      "│ \u001b[32mФеминистское Антивоенное Сопротивление\u001b[0m │ \u001b[35m2022-02-25 13:35:37\u001b[0m │ \u001b[35m2022-06-04 18:43:01\u001b[0m │\n",
      "└────────────────────────────────────────┴─────────────────────┴─────────────────────┘\n",
      "Date ranges for 2023\n"
     ]
    },
    {
     "data": {
      "text/html": [
       "<pre style=\"white-space:pre;overflow-x:auto;line-height:normal;font-family:Menlo,'DejaVu Sans Mono',consolas,'Courier New',monospace\"></pre>\n"
      ],
      "text/plain": []
     },
     "metadata": {},
     "output_type": "display_data"
    },
    {
     "name": "stdout",
     "output_type": "stream",
     "text": [
      "┏━━━━━━━━━━━━━━━━━━━━━━━━━━━━━━━━━━━━━━━━┳━━━━━━━━━━━━━━━━━━━━━┳━━━━━━━━━━━━━━━━━━━━━┓\n",
      "┃\u001b[1m \u001b[0m\u001b[1mtitle\u001b[0m\u001b[1m                                 \u001b[0m\u001b[1m \u001b[0m┃\u001b[1m \u001b[0m\u001b[1mmin_time\u001b[0m\u001b[1m           \u001b[0m\u001b[1m \u001b[0m┃\u001b[1m \u001b[0m\u001b[1mmax_time\u001b[0m\u001b[1m           \u001b[0m\u001b[1m \u001b[0m┃\n",
      "┡━━━━━━━━━━━━━━━━━━━━━━━━━━━━━━━━━━━━━━━━╇━━━━━━━━━━━━━━━━━━━━━╇━━━━━━━━━━━━━━━━━━━━━┩\n",
      "│ \u001b[2mstring\u001b[0m                                 │ \u001b[2mtimestamp\u001b[0m           │ \u001b[2mtimestamp\u001b[0m           │\n",
      "├────────────────────────────────────────┼─────────────────────┼─────────────────────┤\n",
      "│ \u001b[32mЗЕЛЕНАЯ ЛЕНТА                         \u001b[0m │ \u001b[35m2023-02-27 08:43:48\u001b[0m │ \u001b[35m2023-06-06 08:04:23\u001b[0m │\n",
      "│ \u001b[32mМедиа Партизаны | Нет войне           \u001b[0m │ \u001b[35m2023-03-15 07:00:00\u001b[0m │ \u001b[35m2023-06-22 13:59:06\u001b[0m │\n",
      "│ \u001b[32mФеминистское Антивоенное Сопротивление\u001b[0m │ \u001b[35m2023-02-25 07:07:32\u001b[0m │ \u001b[35m2023-06-04 17:23:06\u001b[0m │\n",
      "└────────────────────────────────────────┴─────────────────────┴─────────────────────┘\n"
     ]
    }
   ],
   "source": [
    "# >>>>>> Check start/end date for each channel \n",
    "import datetime\n",
    "from datetime import timedelta\n",
    "import duckdb\n",
    "from ibis import _\n",
    "t = msg.join(channel, msg.channel_id == channel.id) \n",
    "print('Date ranges for 2022')\n",
    "print(t.filter(_.date.cast(\"timestamp\").year() == 2022).group_by('title').aggregate(\n",
    "    min_time=_.date.min().cast(\"timestamp\"), \n",
    "    max_time=_.date.max().cast(\"timestamp\"),\n",
    ")\n",
    ")\n",
    "# group by channel name\n",
    "print('Date ranges for 2023')\n",
    "print(t.filter(_.date.cast(\"timestamp\").year() == 2023).group_by('title').aggregate(\n",
    "    min_time=_.date.min().cast(\"timestamp\"), \n",
    "    max_time=_.date.max().cast(\"timestamp\"),\n",
    ")\n",
    ")\n",
    "\n",
    "# TODO: timestamp diff not implemented in Ibis?\n",
    "# t = t.mutate(\n",
    "#     days_diff = _.max_time.delta(datetime.datetime.now(), 'day')    \n",
    "# )\n"
   ]
  },
  {
   "cell_type": "code",
   "execution_count": null,
   "metadata": {},
   "outputs": [],
   "source": [
    "# >>>>>> Look at nulls (gap analysis); make sure they make sense.\n",
    "import datetime\n",
    "from datetime import timedelta\n",
    "from ibis import _\n",
    "\n",
    "t = msg.join(channel, msg.channel_id == channel.id)\n",
    "t = t.filter(_.last_edit_date == None).select(_.title, _.text, _.total_views, _.last_edit_date)\n",
    "print(f'Found {t.title.count()} records with the field last_edit_date == NULL. These are mostly pinned posts')\n",
    "# t = t.filter(_.text != '')\n",
    "print(f'But some {t.title.count()} are not, because they have text in them')\n",
    "# Looks like an forward announcement for the next post, e.g. https://t.me/femagainstwar/237 and https://t.me/femagainstwar/238\n",
    "# or a group of images\n"
   ]
  },
  {
   "cell_type": "code",
   "execution_count": 12,
   "metadata": {},
   "outputs": [
    {
     "data": {
      "text/html": [
       "<pre style=\"white-space:pre;overflow-x:auto;line-height:normal;font-family:Menlo,'DejaVu Sans Mono',consolas,'Courier New',monospace\">Post frequency per channel <span style=\"font-weight: bold\">(</span>forwards and pins removed<span style=\"font-weight: bold\">)</span>\n",
       "</pre>\n"
      ],
      "text/plain": [
       "Post frequency per channel \u001b[1m(\u001b[0mforwards and pins removed\u001b[1m)\u001b[0m\n"
      ]
     },
     "metadata": {},
     "output_type": "display_data"
    },
    {
     "data": {
      "text/html": [
       "<pre style=\"white-space:pre;overflow-x:auto;line-height:normal;font-family:Menlo,'DejaVu Sans Mono',consolas,'Courier New',monospace\">┏━━━━━━━━━━━━━━━━━━━━━━━━━━━━━━━━━━━━━━━━┳━━━━━━━━━━━━━━━┓\n",
       "┃<span style=\"font-weight: bold\"> title                                  </span>┃<span style=\"font-weight: bold\"> posts_per_day </span>┃\n",
       "┡━━━━━━━━━━━━━━━━━━━━━━━━━━━━━━━━━━━━━━━━╇━━━━━━━━━━━━━━━┩\n",
       "│ <span style=\"color: #7f7f7f; text-decoration-color: #7f7f7f\">string</span>                                 │ <span style=\"color: #7f7f7f; text-decoration-color: #7f7f7f\">float64</span>       │\n",
       "├────────────────────────────────────────┼───────────────┤\n",
       "│ <span style=\"color: #008000; text-decoration-color: #008000\">ЗЕЛЕНАЯ ЛЕНТА                         </span> │         <span style=\"color: #008080; text-decoration-color: #008080; font-weight: bold\">17.42</span> │\n",
       "│ <span style=\"color: #008000; text-decoration-color: #008000\">Медиа Партизаны | Нет войне           </span> │          <span style=\"color: #008080; text-decoration-color: #008080; font-weight: bold\">4.34</span> │\n",
       "│ <span style=\"color: #008000; text-decoration-color: #008000\">Феминистское Антивоенное Сопротивление</span> │         <span style=\"color: #008080; text-decoration-color: #008080; font-weight: bold\">38.70</span> │\n",
       "└────────────────────────────────────────┴───────────────┘\n",
       "</pre>\n"
      ],
      "text/plain": [
       "┏━━━━━━━━━━━━━━━━━━━━━━━━━━━━━━━━━━━━━━━━┳━━━━━━━━━━━━━━━┓\n",
       "┃\u001b[1m \u001b[0m\u001b[1mtitle\u001b[0m\u001b[1m                                 \u001b[0m\u001b[1m \u001b[0m┃\u001b[1m \u001b[0m\u001b[1mposts_per_day\u001b[0m\u001b[1m \u001b[0m┃\n",
       "┡━━━━━━━━━━━━━━━━━━━━━━━━━━━━━━━━━━━━━━━━╇━━━━━━━━━━━━━━━┩\n",
       "│ \u001b[2mstring\u001b[0m                                 │ \u001b[2mfloat64\u001b[0m       │\n",
       "├────────────────────────────────────────┼───────────────┤\n",
       "│ \u001b[32mЗЕЛЕНАЯ ЛЕНТА                         \u001b[0m │         \u001b[1;36m17.42\u001b[0m │\n",
       "│ \u001b[32mМедиа Партизаны | Нет войне           \u001b[0m │          \u001b[1;36m4.34\u001b[0m │\n",
       "│ \u001b[32mФеминистское Антивоенное Сопротивление\u001b[0m │         \u001b[1;36m38.70\u001b[0m │\n",
       "└────────────────────────────────────────┴───────────────┘\n"
      ]
     },
     "metadata": {},
     "output_type": "display_data"
    },
    {
     "data": {
      "text/html": [
       "<pre style=\"white-space:pre;overflow-x:auto;line-height:normal;font-family:Menlo,'DejaVu Sans Mono',consolas,'Courier New',monospace\">Post frequency per period <span style=\"font-weight: bold\">(</span>forwards and pins removed<span style=\"font-weight: bold\">)</span>\n",
       "</pre>\n"
      ],
      "text/plain": [
       "Post frequency per period \u001b[1m(\u001b[0mforwards and pins removed\u001b[1m)\u001b[0m\n"
      ]
     },
     "metadata": {},
     "output_type": "display_data"
    },
    {
     "data": {
      "text/html": [
       "<pre style=\"white-space:pre;overflow-x:auto;line-height:normal;font-family:Menlo,'DejaVu Sans Mono',consolas,'Courier New',monospace\"><span style=\"font-weight: bold\">[</span>\n",
       "    <span style=\"font-weight: bold\">{</span><span style=\"color: #008000; text-decoration-color: #008000\">'channel'</span>: <span style=\"color: #008000; text-decoration-color: #008000\">'Феминистское Антивоенное Сопротивление'</span>, <span style=\"color: #008000; text-decoration-color: #008000\">'period1'</span>: <span style=\"color: #008080; text-decoration-color: #008080; font-weight: bold\">13.26</span>, <span style=\"color: #008000; text-decoration-color: #008000\">'period2'</span>: <span style=\"color: #008080; text-decoration-color: #008080; font-weight: bold\">6.09</span><span style=\"font-weight: bold\">}</span>,\n",
       "    <span style=\"font-weight: bold\">{</span><span style=\"color: #008000; text-decoration-color: #008000\">'channel'</span>: <span style=\"color: #008000; text-decoration-color: #008000\">'ЗЕЛЕНАЯ ЛЕНТА'</span>, <span style=\"color: #008000; text-decoration-color: #008000\">'period1'</span>: <span style=\"color: #008080; text-decoration-color: #008080; font-weight: bold\">4.34</span>, <span style=\"color: #008000; text-decoration-color: #008000\">'period2'</span>: <span style=\"color: #008080; text-decoration-color: #008080; font-weight: bold\">1.92</span><span style=\"font-weight: bold\">}</span>,\n",
       "    <span style=\"font-weight: bold\">{</span><span style=\"color: #008000; text-decoration-color: #008000\">'channel'</span>: <span style=\"color: #008000; text-decoration-color: #008000\">'Медиа Партизаны | Нет войне'</span>, <span style=\"color: #008000; text-decoration-color: #008000\">'period1'</span>: <span style=\"color: #008080; text-decoration-color: #008080; font-weight: bold\">0.78</span>, <span style=\"color: #008000; text-decoration-color: #008000\">'period2'</span>: <span style=\"color: #008080; text-decoration-color: #008080; font-weight: bold\">1.05</span><span style=\"font-weight: bold\">}</span>\n",
       "<span style=\"font-weight: bold\">]</span>\n",
       "</pre>\n"
      ],
      "text/plain": [
       "\u001b[1m[\u001b[0m\n",
       "    \u001b[1m{\u001b[0m\u001b[32m'channel'\u001b[0m: \u001b[32m'Феминистское Антивоенное Сопротивление'\u001b[0m, \u001b[32m'period1'\u001b[0m: \u001b[1;36m13.26\u001b[0m, \u001b[32m'period2'\u001b[0m: \u001b[1;36m6.09\u001b[0m\u001b[1m}\u001b[0m,\n",
       "    \u001b[1m{\u001b[0m\u001b[32m'channel'\u001b[0m: \u001b[32m'ЗЕЛЕНАЯ ЛЕНТА'\u001b[0m, \u001b[32m'period1'\u001b[0m: \u001b[1;36m4.34\u001b[0m, \u001b[32m'period2'\u001b[0m: \u001b[1;36m1.92\u001b[0m\u001b[1m}\u001b[0m,\n",
       "    \u001b[1m{\u001b[0m\u001b[32m'channel'\u001b[0m: \u001b[32m'Медиа Партизаны | Нет войне'\u001b[0m, \u001b[32m'period1'\u001b[0m: \u001b[1;36m0.78\u001b[0m, \u001b[32m'period2'\u001b[0m: \u001b[1;36m1.05\u001b[0m\u001b[1m}\u001b[0m\n",
       "\u001b[1m]\u001b[0m\n"
      ]
     },
     "metadata": {},
     "output_type": "display_data"
    },
    {
     "ename": "",
     "evalue": "",
     "output_type": "error",
     "traceback": [
      "\u001b[1;31mThe Kernel crashed while executing code in the current cell or a previous cell. \n",
      "\u001b[1;31mPlease review the code in the cell(s) to identify a possible cause of the failure. \n",
      "\u001b[1;31mClick <a href='https://aka.ms/vscodeJupyterKernelCrash'>here</a> for more info. \n",
      "\u001b[1;31mView Jupyter <a href='command:jupyter.viewOutput'>log</a> for further details."
     ]
    }
   ],
   "source": [
    "# >>>>>> Posting frequencies (own posts vs forwards; normalize by .. number of posts in channel/subs?)\n",
    "import datetime\n",
    "from rich import print\n",
    "from datetime import timedelta\n",
    "from ibis import _\n",
    "\n",
    "# Identify three 100 day periods: one for each target channel\n",
    "PERIOD_DAYS = 100\n",
    "periods = {\n",
    "1166398892 : [[datetime.datetime(2022, 2, 25, 0, 0)], [datetime.datetime(2023, 2, 25, 0, 0)]],\n",
    "1724215937 : [[datetime.datetime(2022, 3, 15, 0, 0)], [datetime.datetime(2023, 3, 15, 0, 0)]],\n",
    "1744097497 : [[datetime.datetime(2022, 2, 27, 0, 0)], [datetime.datetime(2023, 2, 27, 0, 0)]]\n",
    "}\n",
    "for key in periods:\n",
    "    periods[key] = [(start[0], start[0] + datetime.timedelta(days=PERIOD_DAYS)) for start in periods[key]]\n",
    "\n",
    "\n",
    "t = msg.join(channel, msg.channel_id == channel.id).filter(_.last_edit_date != None)\n",
    "# t1 = t.filter((_.fwd_username != None)).select(_.title, _.text, _.total_views, _.last_edit_date)\n",
    "# print(f'Found {t1.title.count()} user forwards')\n",
    "# t2 = t.filter((_.fwd_channel_id != None)).select(_.title, _.text, _.total_views, _.last_edit_date)\n",
    "# print(f'Found {t2.title.count()} channel forwards')\n",
    "# Remove forwards\n",
    "tNoforwards = t.filter((_.fwd_channel_id == None) & (_.fwd_username == None) & (_.last_edit_date != None))\n",
    "# tNoforwards = t\n",
    "print('Post frequency per channel (forwards and pins removed)')\n",
    "print(tNoforwards.group_by('title').aggregate(posts_per_day = _.count()/PERIOD_DAYS*2))\n",
    "\n",
    "\n",
    "# Use separate period for each channel\n",
    "print('Post frequency per period (forwards and pins removed)')\n",
    "data = []\n",
    "for key in periods:\n",
    "    s1 = tNoforwards.filter((_.channel_id == key) & (_.date.cast(\"timestamp\").between(periods[key][0][0], periods[key][0][1]))).count() \\\n",
    "        / (periods[key][0][1] - periods[key][0][0]).days\n",
    "    s2 = tNoforwards.filter((_.channel_id == key) & (_.date.cast(\"timestamp\").between(periods[key][1][0], periods[key][1][1]))).count() \\\n",
    "        / (periods[key][1][1] - periods[key][1][0]).days\n",
    "    ttl = channel.filter(_.id == key).title.to_pandas()[0]\n",
    "    data.append({\"channel\": ttl, \"period1\" : s1.to_pandas(), \"period2\" : s2.to_pandas()})\n",
    "print(data)\n",
    "t = ibis.memtable(data)\n",
    "t.to_csv('peroid_freq.csv')\n"
   ]
  },
  {
   "cell_type": "code",
   "execution_count": null,
   "metadata": {},
   "outputs": [],
   "source": [
    "# >>>>>> Visualize total posts; visualize over time\n",
    "import altair as alt\n",
    "t = msg.join(channel, msg.channel_id == channel.id)\n",
    "# group by channel name\n",
    "# chart = (\n",
    "#     alt.Chart(t.group_by(\"title\").aggregate(count=_.count()))\n",
    "#     .mark_bar()\n",
    "#     .encode(\n",
    "#         x=\"title\",\n",
    "#         y=\"count\",\n",
    "#         tooltip=[\"title\", \"count\"],\n",
    "#     )\n",
    "#     .properties(width=1024, height=600)\n",
    "#     .interactive()\n",
    "# )\n",
    "# TODO implement bukcets for timestamps\n",
    "chart = (\n",
    "    alt.Chart(t.filter(t.title == \"Феминистское Антивоенное Сопротивление\").date.bucket())\n",
    "    .mark_line()\n",
    "    .encode(\n",
    "        x=\"date:T\",\n",
    "        y=\"count:Q\",\n",
    "        tooltip=[\"title\", \"count\"],\n",
    "    )\n",
    "    .properties(width=1024, height=600)\n",
    "    .interactive()\n",
    ")\n",
    "chart"
   ]
  }
 ],
 "metadata": {
  "kernelspec": {
   "display_name": "tele",
   "language": "python",
   "name": "python3"
  },
  "language_info": {
   "codemirror_mode": {
    "name": "ipython",
    "version": 3
   },
   "file_extension": ".py",
   "mimetype": "text/x-python",
   "name": "python",
   "nbconvert_exporter": "python",
   "pygments_lexer": "ipython3",
   "version": "3.12.2"
  }
 },
 "nbformat": 4,
 "nbformat_minor": 2
}
