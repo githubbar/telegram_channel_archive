{
 "cells": [
  {
   "cell_type": "code",
   "execution_count": 2,
   "metadata": {},
   "outputs": [],
   "source": [
    "\"\"\"\n",
    "This is a heavily documented notebook with exploratory data analyses for Telegram Channel Archive project\n",
    "https://github.com/githubbar/telegram_channel_archive\n",
    "\n",
    "\n",
    "For working with the SQLite backend we are choosing Ibis over Pandas for data analysis because it does execuste a lot of stuff at the backend and is therefore more suitable for large databases.\n",
    "see: https://voltrondata.com/blog/ibis-explained-making-dataframes-big-and-small-more-delightful\n",
    "\"\"\" \n",
    "\n",
    "# TEMP: conda activate /N/slate/oleykin/.conda/envs/tele\n",
    "# TEMP: conda list -e > requirements.txt\n",
    "\n",
    "\"\"\"Connect to SQLite DB\"\"\"\n",
    "import os\n",
    "os.environ['OPENBLAS_NUM_THREADS'] = '1'\n",
    "import numpy as np\n",
    "import ibis\n",
    "\n",
    "ibis.options.interactive = True\n",
    "ibis.options.repr.interactive.max_rows = 20\n",
    "\n",
    "con = ibis.sqlite.connect('db.sqlite')\n",
    "# con.list_tables()\n",
    "\n",
    "channel  = con.table('channel')\n",
    "msg = con.table('message')\n"
   ]
  },
  {
   "cell_type": "code",
   "execution_count": 15,
   "metadata": {},
   "outputs": [
    {
     "name": "stdout",
     "output_type": "stream",
     "text": [
      "Date ranges for 2022\n"
     ]
    },
    {
     "data": {
      "text/html": [
       "<pre style=\"white-space:pre;overflow-x:auto;line-height:normal;font-family:Menlo,'DejaVu Sans Mono',consolas,'Courier New',monospace\"></pre>\n"
      ],
      "text/plain": []
     },
     "metadata": {},
     "output_type": "display_data"
    },
    {
     "name": "stdout",
     "output_type": "stream",
     "text": [
      "┏━━━━━━━━━━━━━━━━━━━━━━━━━━━━━━━━━━━━━━━━┳━━━━━━━━━━━━━━━━━━━━━┳━━━━━━━━━━━━━━━━━━━━━┓\n",
      "┃\u001b[1m \u001b[0m\u001b[1mtitle\u001b[0m\u001b[1m                                 \u001b[0m\u001b[1m \u001b[0m┃\u001b[1m \u001b[0m\u001b[1mmin_time\u001b[0m\u001b[1m           \u001b[0m\u001b[1m \u001b[0m┃\u001b[1m \u001b[0m\u001b[1mmax_time\u001b[0m\u001b[1m           \u001b[0m\u001b[1m \u001b[0m┃\n",
      "┡━━━━━━━━━━━━━━━━━━━━━━━━━━━━━━━━━━━━━━━━╇━━━━━━━━━━━━━━━━━━━━━╇━━━━━━━━━━━━━━━━━━━━━┩\n",
      "│ \u001b[2mstring\u001b[0m                                 │ \u001b[2mtimestamp\u001b[0m           │ \u001b[2mtimestamp\u001b[0m           │\n",
      "├────────────────────────────────────────┼─────────────────────┼─────────────────────┤\n",
      "│ \u001b[32mЗЕЛЕНАЯ ЛЕНТА                         \u001b[0m │ \u001b[35m2022-02-27 11:36:52\u001b[0m │ \u001b[35m2022-06-06 16:25:29\u001b[0m │\n",
      "│ \u001b[32mМедиа Партизаны | Нет войне           \u001b[0m │ \u001b[35m2022-03-15 18:46:22\u001b[0m │ \u001b[35m2022-06-22 13:45:39\u001b[0m │\n",
      "│ \u001b[32mФеминистское Антивоенное Сопротивление\u001b[0m │ \u001b[35m2022-02-25 13:35:37\u001b[0m │ \u001b[35m2022-06-04 18:43:01\u001b[0m │\n",
      "└────────────────────────────────────────┴─────────────────────┴─────────────────────┘\n",
      "Date ranges for 2023\n"
     ]
    },
    {
     "data": {
      "text/html": [
       "<pre style=\"white-space:pre;overflow-x:auto;line-height:normal;font-family:Menlo,'DejaVu Sans Mono',consolas,'Courier New',monospace\"></pre>\n"
      ],
      "text/plain": []
     },
     "metadata": {},
     "output_type": "display_data"
    },
    {
     "name": "stdout",
     "output_type": "stream",
     "text": [
      "┏━━━━━━━━━━━━━━━━━━━━━━━━━━━━━━━━━━━━━━━━┳━━━━━━━━━━━━━━━━━━━━━┳━━━━━━━━━━━━━━━━━━━━━┓\n",
      "┃\u001b[1m \u001b[0m\u001b[1mtitle\u001b[0m\u001b[1m                                 \u001b[0m\u001b[1m \u001b[0m┃\u001b[1m \u001b[0m\u001b[1mmin_time\u001b[0m\u001b[1m           \u001b[0m\u001b[1m \u001b[0m┃\u001b[1m \u001b[0m\u001b[1mmax_time\u001b[0m\u001b[1m           \u001b[0m\u001b[1m \u001b[0m┃\n",
      "┡━━━━━━━━━━━━━━━━━━━━━━━━━━━━━━━━━━━━━━━━╇━━━━━━━━━━━━━━━━━━━━━╇━━━━━━━━━━━━━━━━━━━━━┩\n",
      "│ \u001b[2mstring\u001b[0m                                 │ \u001b[2mtimestamp\u001b[0m           │ \u001b[2mtimestamp\u001b[0m           │\n",
      "├────────────────────────────────────────┼─────────────────────┼─────────────────────┤\n",
      "│ \u001b[32mЗЕЛЕНАЯ ЛЕНТА                         \u001b[0m │ \u001b[35m2023-02-27 08:43:48\u001b[0m │ \u001b[35m2023-06-06 08:04:23\u001b[0m │\n",
      "│ \u001b[32mМедиа Партизаны | Нет войне           \u001b[0m │ \u001b[35m2023-03-15 07:00:00\u001b[0m │ \u001b[35m2023-06-22 13:59:06\u001b[0m │\n",
      "│ \u001b[32mФеминистское Антивоенное Сопротивление\u001b[0m │ \u001b[35m2023-02-25 07:07:32\u001b[0m │ \u001b[35m2023-06-04 17:23:06\u001b[0m │\n",
      "└────────────────────────────────────────┴─────────────────────┴─────────────────────┘\n"
     ]
    }
   ],
   "source": [
    "# >>>>>> Check start/end date for each channel \n",
    "import datetime\n",
    "from datetime import timedelta\n",
    "import duckdb\n",
    "from ibis import _\n",
    "t = msg.join(channel, msg.channel_id == channel.id) \n",
    "print('Date ranges for 2022')\n",
    "print(t.filter(_.date.cast(\"timestamp\").year() == 2022).group_by('title').aggregate(\n",
    "    min_time=_.date.min().cast(\"timestamp\"), \n",
    "    max_time=_.date.max().cast(\"timestamp\"),\n",
    ")\n",
    ")\n",
    "# group by channel name\n",
    "print('Date ranges for 2023')\n",
    "print(t.filter(_.date.cast(\"timestamp\").year() == 2023).group_by('title').aggregate(\n",
    "    min_time=_.date.min().cast(\"timestamp\"), \n",
    "    max_time=_.date.max().cast(\"timestamp\"),\n",
    ")\n",
    ")\n",
    "\n",
    "# TODO: timestamp diff not implemented in Ibis?\n",
    "# t = t.mutate(\n",
    "#     days_diff = _.max_time.delta(datetime.datetime.now(), 'day')    \n",
    "# )\n"
   ]
  },
  {
   "cell_type": "code",
   "execution_count": null,
   "metadata": {},
   "outputs": [],
   "source": [
    "# >>>>>> Look at nulls (gap analysis); make sure they make sense.\n",
    "import datetime\n",
    "from datetime import timedelta\n",
    "from ibis import _\n",
    "\n",
    "t = msg.join(channel, msg.channel_id == channel.id)\n",
    "t = t.filter(_.last_edit_date == None).select(_.title, _.text, _.total_views, _.last_edit_date)\n",
    "print(f'Found {t.title.count()} records with the field last_edit_date == NULL. These are mostly pinned posts')\n",
    "# t = t.filter(_.text != '')\n",
    "print(f'But some {t.title.count()} are not, because they have text in them')\n",
    "# Looks like an forward announcement for the next post, e.g. https://t.me/femagainstwar/237 and https://t.me/femagainstwar/238\n",
    "# or a group of images\n"
   ]
  },
  {
   "cell_type": "code",
   "execution_count": 70,
   "metadata": {},
   "outputs": [
    {
     "data": {
      "text/html": [
       "<pre style=\"white-space:pre;overflow-x:auto;line-height:normal;font-family:Menlo,'DejaVu Sans Mono',consolas,'Courier New',monospace\">Post frequency per channel <span style=\"font-weight: bold\">(</span>forwards and pins removed<span style=\"font-weight: bold\">)</span>\n",
       "</pre>\n"
      ],
      "text/plain": [
       "Post frequency per channel \u001b[1m(\u001b[0mforwards and pins removed\u001b[1m)\u001b[0m\n"
      ]
     },
     "metadata": {},
     "output_type": "display_data"
    },
    {
     "data": {
      "text/html": [
       "<pre style=\"white-space:pre;overflow-x:auto;line-height:normal;font-family:Menlo,'DejaVu Sans Mono',consolas,'Courier New',monospace\">                                    title  posts_per_day\n",
       "<span style=\"color: #008080; text-decoration-color: #008080; font-weight: bold\">0</span>                           ЗЕЛЕНАЯ ЛЕНТА          <span style=\"color: #008080; text-decoration-color: #008080; font-weight: bold\">4.355</span>\n",
       "<span style=\"color: #008080; text-decoration-color: #008080; font-weight: bold\">1</span>             Медиа Партизаны | Нет войне          <span style=\"color: #008080; text-decoration-color: #008080; font-weight: bold\">1.085</span>\n",
       "<span style=\"color: #008080; text-decoration-color: #008080; font-weight: bold\">2</span>  Феминистское Антивоенное Сопротивление          <span style=\"color: #008080; text-decoration-color: #008080; font-weight: bold\">9.710</span>\n",
       "</pre>\n"
      ],
      "text/plain": [
       "                                    title  posts_per_day\n",
       "\u001b[1;36m0\u001b[0m                           ЗЕЛЕНАЯ ЛЕНТА          \u001b[1;36m4.355\u001b[0m\n",
       "\u001b[1;36m1\u001b[0m             Медиа Партизаны | Нет войне          \u001b[1;36m1.085\u001b[0m\n",
       "\u001b[1;36m2\u001b[0m  Феминистское Антивоенное Сопротивление          \u001b[1;36m9.710\u001b[0m\n"
      ]
     },
     "metadata": {},
     "output_type": "display_data"
    },
    {
     "data": {
      "text/html": [
       "<pre style=\"white-space:pre;overflow-x:auto;line-height:normal;font-family:Menlo,'DejaVu Sans Mono',consolas,'Courier New',monospace\">Post frequency per period <span style=\"font-weight: bold\">(</span>forwards and pins removed<span style=\"font-weight: bold\">)</span>\n",
       "</pre>\n"
      ],
      "text/plain": [
       "Post frequency per period \u001b[1m(\u001b[0mforwards and pins removed\u001b[1m)\u001b[0m\n"
      ]
     },
     "metadata": {},
     "output_type": "display_data"
    },
    {
     "data": {
      "text/html": [
       "<pre style=\"white-space:pre;overflow-x:auto;line-height:normal;font-family:Menlo,'DejaVu Sans Mono',consolas,'Courier New',monospace\">                                  channel  period1  period2\n",
       "<span style=\"color: #008080; text-decoration-color: #008080; font-weight: bold\">0</span>  Феминистское Антивоенное Сопротивление    <span style=\"color: #008080; text-decoration-color: #008080; font-weight: bold\">13.33</span>     <span style=\"color: #008080; text-decoration-color: #008080; font-weight: bold\">6.09</span>\n",
       "<span style=\"color: #008080; text-decoration-color: #008080; font-weight: bold\">1</span>                           ЗЕЛЕНАЯ ЛЕНТА     <span style=\"color: #008080; text-decoration-color: #008080; font-weight: bold\">4.34</span>     <span style=\"color: #008080; text-decoration-color: #008080; font-weight: bold\">1.92</span>\n",
       "<span style=\"color: #008080; text-decoration-color: #008080; font-weight: bold\">2</span>             Медиа Партизаны | Нет войне     <span style=\"color: #008080; text-decoration-color: #008080; font-weight: bold\">0.78</span>     <span style=\"color: #008080; text-decoration-color: #008080; font-weight: bold\">1.05</span>\n",
       "</pre>\n"
      ],
      "text/plain": [
       "                                  channel  period1  period2\n",
       "\u001b[1;36m0\u001b[0m  Феминистское Антивоенное Сопротивление    \u001b[1;36m13.33\u001b[0m     \u001b[1;36m6.09\u001b[0m\n",
       "\u001b[1;36m1\u001b[0m                           ЗЕЛЕНАЯ ЛЕНТА     \u001b[1;36m4.34\u001b[0m     \u001b[1;36m1.92\u001b[0m\n",
       "\u001b[1;36m2\u001b[0m             Медиа Партизаны | Нет войне     \u001b[1;36m0.78\u001b[0m     \u001b[1;36m1.05\u001b[0m\n"
      ]
     },
     "metadata": {},
     "output_type": "display_data"
    }
   ],
   "source": [
    "# >>>>>> Posting frequencies (own posts vs forwards; normalize by .. number of posts in channel/subs?)\n",
    "import datetime\n",
    "from rich import print\n",
    "from datetime import timedelta\n",
    "from ibis import _\n",
    "import pandas as pd\n",
    "\n",
    "# Identify three 100 day periods: one for each target channel\n",
    "PERIOD_DAYS = 100\n",
    "periods = {\n",
    "1166398892 : [[datetime.datetime(2022, 2, 25, 0, 0)], [datetime.datetime(2023, 2, 25, 0, 0)]],\n",
    "1724215937 : [[datetime.datetime(2022, 3, 15, 0, 0)], [datetime.datetime(2023, 3, 15, 0, 0)]],\n",
    "1744097497 : [[datetime.datetime(2022, 2, 27, 0, 0)], [datetime.datetime(2023, 2, 27, 0, 0)]]\n",
    "}\n",
    "for key in periods:\n",
    "    periods[key] = [(start[0], start[0] + datetime.timedelta(days=PERIOD_DAYS)) for start in periods[key]]\n",
    "\n",
    "\n",
    "t = msg.left_join(channel, msg.channel_id == channel.id)\n",
    "# t1 = t.filter((_.fwd_username != None)).select(_.title, _.text, _.total_views, _.last_edit_date)\n",
    "# print(f'Found {t1.title.count()} user forwards')\n",
    "# t2 = t.filter((_.fwd_channel_id != None)).select(_.title, _.text, _.total_views, _.last_edit_date)\n",
    "# print(f'Found {t2.title.count()} channel forwards')\n",
    "# Remove forwards\n",
    "tNoforwards = t.filter((_.fwd_channel_id == None) & (_.fwd_username == None) & (_.text != None))\n",
    "\n",
    "print('Post frequency per channel (forwards and pins removed)')\n",
    "dataByChannel = tNoforwards.group_by('title').aggregate(posts_per_day = _.count()/(PERIOD_DAYS*2)).to_pandas()\n",
    "print(dataByChannel)\n",
    "# t.to_csv('peroid_freq.csv')\n",
    "\n",
    "print('Post frequency per period (forwards and pins removed)')\n",
    "dataByPeriod = []\n",
    "for key in periods:\n",
    "    s1 = tNoforwards.count((_.channel_id == key) & (_.date.cast(\"timestamp\").between(periods[key][0][0], periods[key][0][1]))) \\\n",
    "        / (periods[key][0][1] - periods[key][0][0]).days\n",
    "    s2 = tNoforwards.count((_.channel_id == key) & (_.date.cast(\"timestamp\").between(periods[key][1][0], periods[key][1][1]))) \\\n",
    "        / (periods[key][1][1] - periods[key][1][0]).days\n",
    "    ttl = channel.filter(_.id == key).title.to_pandas()[0]\n",
    "    dataByPeriod.append({\"channel\": ttl, \"period1\" : s1.to_pandas(), \"period2\" : s2.to_pandas()})\n",
    "dataByPeriod = pd.DataFrame.from_records(dataByPeriod)\n",
    "print(dataByPeriod)\n",
    "# t.to_csv('peroid_freq.csv')"
   ]
  },
  {
   "cell_type": "code",
   "execution_count": 89,
   "metadata": {},
   "outputs": [
    {
     "ename": "ArrowInvalid",
     "evalue": "('Invalid null value', 'Conversion failed for column fwd_username with type object')",
     "output_type": "error",
     "traceback": [
      "\u001b[0;31m---------------------------------------------------------------------------\u001b[0m",
      "\u001b[0;31mArrowInvalid\u001b[0m                              Traceback (most recent call last)",
      "Cell \u001b[0;32mIn[89], line 32\u001b[0m\n\u001b[1;32m     27\u001b[0m \u001b[38;5;66;03m# Remove forwards\u001b[39;00m\n\u001b[1;32m     28\u001b[0m \u001b[38;5;66;03m# tNoforwards = t.filter((_.fwd_channel_id == None) & (_.fwd_username == None) & (_.text != None)).select(cols)\u001b[39;00m\n\u001b[1;32m     29\u001b[0m \u001b[38;5;66;03m# tNoforwards.to_csv('noforwards.csv')\u001b[39;00m\n\u001b[1;32m     31\u001b[0m tForwards \u001b[38;5;241m=\u001b[39m t\u001b[38;5;241m.\u001b[39mfilter(((_\u001b[38;5;241m.\u001b[39mfwd_channel_id \u001b[38;5;241m!=\u001b[39m \u001b[38;5;28;01mNone\u001b[39;00m) \u001b[38;5;241m|\u001b[39m (_\u001b[38;5;241m.\u001b[39mfwd_username \u001b[38;5;241m!=\u001b[39m \u001b[38;5;28;01mNone\u001b[39;00m)) \u001b[38;5;241m&\u001b[39m (_\u001b[38;5;241m.\u001b[39mtext \u001b[38;5;241m!=\u001b[39m \u001b[38;5;28;01mNone\u001b[39;00m))\u001b[38;5;241m.\u001b[39mselect(cols)\n\u001b[0;32m---> 32\u001b[0m \u001b[43mtForwards\u001b[49m\u001b[38;5;241;43m.\u001b[39;49m\u001b[43mto_csv\u001b[49m\u001b[43m(\u001b[49m\u001b[38;5;124;43m'\u001b[39;49m\u001b[38;5;124;43mforwards.csv\u001b[39;49m\u001b[38;5;124;43m'\u001b[39;49m\u001b[43m)\u001b[49m\n",
      "File \u001b[0;32m/N/u/oleykin/BigRed200/SLATE/.conda/envs/tele/lib/python3.12/site-packages/ibis/expr/types/core.py:631\u001b[0m, in \u001b[0;36mExpr.to_csv\u001b[0;34m(self, path, params, **kwargs)\u001b[0m\n\u001b[1;32m    607\u001b[0m \u001b[38;5;129m@experimental\u001b[39m\n\u001b[1;32m    608\u001b[0m \u001b[38;5;28;01mdef\u001b[39;00m \u001b[38;5;21mto_csv\u001b[39m(\n\u001b[1;32m    609\u001b[0m     \u001b[38;5;28mself\u001b[39m,\n\u001b[0;32m   (...)\u001b[0m\n\u001b[1;32m    613\u001b[0m     \u001b[38;5;241m*\u001b[39m\u001b[38;5;241m*\u001b[39mkwargs: Any,\n\u001b[1;32m    614\u001b[0m ) \u001b[38;5;241m-\u001b[39m\u001b[38;5;241m>\u001b[39m \u001b[38;5;28;01mNone\u001b[39;00m:\n\u001b[1;32m    615\u001b[0m \u001b[38;5;250m    \u001b[39m\u001b[38;5;124;03m\"\"\"Write the results of executing the given expression to a CSV file.\u001b[39;00m\n\u001b[1;32m    616\u001b[0m \n\u001b[1;32m    617\u001b[0m \u001b[38;5;124;03m    This method is eager and will execute the associated expression\u001b[39;00m\n\u001b[0;32m   (...)\u001b[0m\n\u001b[1;32m    629\u001b[0m \u001b[38;5;124;03m    https://arrow.apache.org/docs/python/generated/pyarrow.csv.CSVWriter.html\u001b[39;00m\n\u001b[1;32m    630\u001b[0m \u001b[38;5;124;03m    \"\"\"\u001b[39;00m\n\u001b[0;32m--> 631\u001b[0m     \u001b[38;5;28;43mself\u001b[39;49m\u001b[38;5;241;43m.\u001b[39;49m\u001b[43m_find_backend\u001b[49m\u001b[43m(\u001b[49m\u001b[43muse_default\u001b[49m\u001b[38;5;241;43m=\u001b[39;49m\u001b[38;5;28;43;01mTrue\u001b[39;49;00m\u001b[43m)\u001b[49m\u001b[38;5;241;43m.\u001b[39;49m\u001b[43mto_csv\u001b[49m\u001b[43m(\u001b[49m\u001b[38;5;28;43mself\u001b[39;49m\u001b[43m,\u001b[49m\u001b[43m \u001b[49m\u001b[43mpath\u001b[49m\u001b[43m,\u001b[49m\u001b[43m \u001b[49m\u001b[38;5;241;43m*\u001b[39;49m\u001b[38;5;241;43m*\u001b[39;49m\u001b[43mkwargs\u001b[49m\u001b[43m)\u001b[49m\n",
      "File \u001b[0;32m/N/u/oleykin/BigRed200/SLATE/.conda/envs/tele/lib/python3.12/site-packages/ibis/backends/__init__.py:508\u001b[0m, in \u001b[0;36m_FileIOHandler.to_csv\u001b[0;34m(self, expr, path, params, **kwargs)\u001b[0m\n\u001b[1;32m    505\u001b[0m \u001b[38;5;28mself\u001b[39m\u001b[38;5;241m.\u001b[39m_import_pyarrow()\n\u001b[1;32m    506\u001b[0m \u001b[38;5;28;01mimport\u001b[39;00m \u001b[38;5;21;01mpyarrow\u001b[39;00m\u001b[38;5;21;01m.\u001b[39;00m\u001b[38;5;21;01mcsv\u001b[39;00m \u001b[38;5;28;01mas\u001b[39;00m \u001b[38;5;21;01mpcsv\u001b[39;00m\n\u001b[0;32m--> 508\u001b[0m \u001b[38;5;28;01mwith\u001b[39;00m \u001b[43mexpr\u001b[49m\u001b[38;5;241;43m.\u001b[39;49m\u001b[43mto_pyarrow_batches\u001b[49m\u001b[43m(\u001b[49m\u001b[43mparams\u001b[49m\u001b[38;5;241;43m=\u001b[39;49m\u001b[43mparams\u001b[49m\u001b[43m)\u001b[49m \u001b[38;5;28;01mas\u001b[39;00m batch_reader:\n\u001b[1;32m    509\u001b[0m     \u001b[38;5;28;01mwith\u001b[39;00m pcsv\u001b[38;5;241m.\u001b[39mCSVWriter(path, batch_reader\u001b[38;5;241m.\u001b[39mschema, \u001b[38;5;241m*\u001b[39m\u001b[38;5;241m*\u001b[39mkwargs) \u001b[38;5;28;01mas\u001b[39;00m writer:\n\u001b[1;32m    510\u001b[0m         \u001b[38;5;28;01mfor\u001b[39;00m batch \u001b[38;5;129;01min\u001b[39;00m batch_reader:\n",
      "File \u001b[0;32m/N/u/oleykin/BigRed200/SLATE/.conda/envs/tele/lib/python3.12/site-packages/ibis/expr/types/core.py:450\u001b[0m, in \u001b[0;36mExpr.to_pyarrow_batches\u001b[0;34m(self, limit, params, chunk_size, **kwargs)\u001b[0m\n\u001b[1;32m    419\u001b[0m \u001b[38;5;129m@experimental\u001b[39m\n\u001b[1;32m    420\u001b[0m \u001b[38;5;28;01mdef\u001b[39;00m \u001b[38;5;21mto_pyarrow_batches\u001b[39m(\n\u001b[1;32m    421\u001b[0m     \u001b[38;5;28mself\u001b[39m,\n\u001b[0;32m   (...)\u001b[0m\n\u001b[1;32m    426\u001b[0m     \u001b[38;5;241m*\u001b[39m\u001b[38;5;241m*\u001b[39mkwargs: Any,\n\u001b[1;32m    427\u001b[0m ) \u001b[38;5;241m-\u001b[39m\u001b[38;5;241m>\u001b[39m pa\u001b[38;5;241m.\u001b[39mipc\u001b[38;5;241m.\u001b[39mRecordBatchReader:\n\u001b[1;32m    428\u001b[0m \u001b[38;5;250m    \u001b[39m\u001b[38;5;124;03m\"\"\"Execute expression and return a RecordBatchReader.\u001b[39;00m\n\u001b[1;32m    429\u001b[0m \n\u001b[1;32m    430\u001b[0m \u001b[38;5;124;03m    This method is eager and will execute the associated expression\u001b[39;00m\n\u001b[0;32m   (...)\u001b[0m\n\u001b[1;32m    448\u001b[0m \u001b[38;5;124;03m        RecordBatchReader\u001b[39;00m\n\u001b[1;32m    449\u001b[0m \u001b[38;5;124;03m    \"\"\"\u001b[39;00m\n\u001b[0;32m--> 450\u001b[0m     \u001b[38;5;28;01mreturn\u001b[39;00m \u001b[38;5;28;43mself\u001b[39;49m\u001b[38;5;241;43m.\u001b[39;49m\u001b[43m_find_backend\u001b[49m\u001b[43m(\u001b[49m\u001b[43muse_default\u001b[49m\u001b[38;5;241;43m=\u001b[39;49m\u001b[38;5;28;43;01mTrue\u001b[39;49;00m\u001b[43m)\u001b[49m\u001b[38;5;241;43m.\u001b[39;49m\u001b[43mto_pyarrow_batches\u001b[49m\u001b[43m(\u001b[49m\n\u001b[1;32m    451\u001b[0m \u001b[43m        \u001b[49m\u001b[38;5;28;43mself\u001b[39;49m\u001b[43m,\u001b[49m\n\u001b[1;32m    452\u001b[0m \u001b[43m        \u001b[49m\u001b[43mparams\u001b[49m\u001b[38;5;241;43m=\u001b[39;49m\u001b[43mparams\u001b[49m\u001b[43m,\u001b[49m\n\u001b[1;32m    453\u001b[0m \u001b[43m        \u001b[49m\u001b[43mlimit\u001b[49m\u001b[38;5;241;43m=\u001b[39;49m\u001b[43mlimit\u001b[49m\u001b[43m,\u001b[49m\n\u001b[1;32m    454\u001b[0m \u001b[43m        \u001b[49m\u001b[43mchunk_size\u001b[49m\u001b[38;5;241;43m=\u001b[39;49m\u001b[43mchunk_size\u001b[49m\u001b[43m,\u001b[49m\n\u001b[1;32m    455\u001b[0m \u001b[43m        \u001b[49m\u001b[38;5;241;43m*\u001b[39;49m\u001b[38;5;241;43m*\u001b[39;49m\u001b[43mkwargs\u001b[49m\u001b[43m,\u001b[49m\n\u001b[1;32m    456\u001b[0m \u001b[43m    \u001b[49m\u001b[43m)\u001b[49m\n",
      "File \u001b[0;32m/N/u/oleykin/BigRed200/SLATE/.conda/envs/tele/lib/python3.12/site-packages/ibis/backends/sqlite/__init__.py:281\u001b[0m, in \u001b[0;36mBackend.to_pyarrow_batches\u001b[0;34m(self, expr, params, limit, chunk_size, **_)\u001b[0m\n\u001b[1;32m    277\u001b[0m \u001b[38;5;28;01mwith\u001b[39;00m \u001b[38;5;28mself\u001b[39m\u001b[38;5;241m.\u001b[39m_safe_raw_sql(\n\u001b[1;32m    278\u001b[0m     \u001b[38;5;28mself\u001b[39m\u001b[38;5;241m.\u001b[39mcompile(expr, limit\u001b[38;5;241m=\u001b[39mlimit, params\u001b[38;5;241m=\u001b[39mparams)\n\u001b[1;32m    279\u001b[0m ) \u001b[38;5;28;01mas\u001b[39;00m cursor:\n\u001b[1;32m    280\u001b[0m     df \u001b[38;5;241m=\u001b[39m \u001b[38;5;28mself\u001b[39m\u001b[38;5;241m.\u001b[39m_fetch_from_cursor(cursor, schema)\n\u001b[0;32m--> 281\u001b[0m table \u001b[38;5;241m=\u001b[39m \u001b[43mpa\u001b[49m\u001b[38;5;241;43m.\u001b[39;49m\u001b[43mTable\u001b[49m\u001b[38;5;241;43m.\u001b[39;49m\u001b[43mfrom_pandas\u001b[49m\u001b[43m(\u001b[49m\n\u001b[1;32m    282\u001b[0m \u001b[43m    \u001b[49m\u001b[43mdf\u001b[49m\u001b[43m,\u001b[49m\u001b[43m \u001b[49m\u001b[43mschema\u001b[49m\u001b[38;5;241;43m=\u001b[39;49m\u001b[43mschema\u001b[49m\u001b[38;5;241;43m.\u001b[39;49m\u001b[43mto_pyarrow\u001b[49m\u001b[43m(\u001b[49m\u001b[43m)\u001b[49m\u001b[43m,\u001b[49m\u001b[43m \u001b[49m\u001b[43mpreserve_index\u001b[49m\u001b[38;5;241;43m=\u001b[39;49m\u001b[38;5;28;43;01mFalse\u001b[39;49;00m\n\u001b[1;32m    283\u001b[0m \u001b[43m\u001b[49m\u001b[43m)\u001b[49m\n\u001b[1;32m    284\u001b[0m \u001b[38;5;28;01mreturn\u001b[39;00m table\u001b[38;5;241m.\u001b[39mto_reader(max_chunksize\u001b[38;5;241m=\u001b[39mchunk_size)\n",
      "File \u001b[0;32m/N/u/oleykin/BigRed200/SLATE/.conda/envs/tele/lib/python3.12/site-packages/pyarrow/table.pxi:3874\u001b[0m, in \u001b[0;36mpyarrow.lib.Table.from_pandas\u001b[0;34m()\u001b[0m\n",
      "File \u001b[0;32m/N/u/oleykin/BigRed200/SLATE/.conda/envs/tele/lib/python3.12/site-packages/pyarrow/pandas_compat.py:611\u001b[0m, in \u001b[0;36mdataframe_to_arrays\u001b[0;34m(df, schema, preserve_index, nthreads, columns, safe)\u001b[0m\n\u001b[1;32m    606\u001b[0m     \u001b[38;5;28;01mreturn\u001b[39;00m (\u001b[38;5;28misinstance\u001b[39m(arr, np\u001b[38;5;241m.\u001b[39mndarray) \u001b[38;5;129;01mand\u001b[39;00m\n\u001b[1;32m    607\u001b[0m             arr\u001b[38;5;241m.\u001b[39mflags\u001b[38;5;241m.\u001b[39mcontiguous \u001b[38;5;129;01mand\u001b[39;00m\n\u001b[1;32m    608\u001b[0m             \u001b[38;5;28missubclass\u001b[39m(arr\u001b[38;5;241m.\u001b[39mdtype\u001b[38;5;241m.\u001b[39mtype, np\u001b[38;5;241m.\u001b[39minteger))\n\u001b[1;32m    610\u001b[0m \u001b[38;5;28;01mif\u001b[39;00m nthreads \u001b[38;5;241m==\u001b[39m \u001b[38;5;241m1\u001b[39m:\n\u001b[0;32m--> 611\u001b[0m     arrays \u001b[38;5;241m=\u001b[39m [\u001b[43mconvert_column\u001b[49m\u001b[43m(\u001b[49m\u001b[43mc\u001b[49m\u001b[43m,\u001b[49m\u001b[43m \u001b[49m\u001b[43mf\u001b[49m\u001b[43m)\u001b[49m\n\u001b[1;32m    612\u001b[0m               \u001b[38;5;28;01mfor\u001b[39;00m c, f \u001b[38;5;129;01min\u001b[39;00m \u001b[38;5;28mzip\u001b[39m(columns_to_convert, convert_fields)]\n\u001b[1;32m    613\u001b[0m \u001b[38;5;28;01melse\u001b[39;00m:\n\u001b[1;32m    614\u001b[0m     arrays \u001b[38;5;241m=\u001b[39m []\n",
      "File \u001b[0;32m/N/u/oleykin/BigRed200/SLATE/.conda/envs/tele/lib/python3.12/site-packages/pyarrow/pandas_compat.py:598\u001b[0m, in \u001b[0;36mdataframe_to_arrays.<locals>.convert_column\u001b[0;34m(col, field)\u001b[0m\n\u001b[1;32m    593\u001b[0m \u001b[38;5;28;01mexcept\u001b[39;00m (pa\u001b[38;5;241m.\u001b[39mArrowInvalid,\n\u001b[1;32m    594\u001b[0m         pa\u001b[38;5;241m.\u001b[39mArrowNotImplementedError,\n\u001b[1;32m    595\u001b[0m         pa\u001b[38;5;241m.\u001b[39mArrowTypeError) \u001b[38;5;28;01mas\u001b[39;00m e:\n\u001b[1;32m    596\u001b[0m     e\u001b[38;5;241m.\u001b[39margs \u001b[38;5;241m+\u001b[39m\u001b[38;5;241m=\u001b[39m (\u001b[38;5;124m\"\u001b[39m\u001b[38;5;124mConversion failed for column \u001b[39m\u001b[38;5;132;01m{!s}\u001b[39;00m\u001b[38;5;124m with type \u001b[39m\u001b[38;5;132;01m{!s}\u001b[39;00m\u001b[38;5;124m\"\u001b[39m\n\u001b[1;32m    597\u001b[0m                \u001b[38;5;241m.\u001b[39mformat(col\u001b[38;5;241m.\u001b[39mname, col\u001b[38;5;241m.\u001b[39mdtype),)\n\u001b[0;32m--> 598\u001b[0m     \u001b[38;5;28;01mraise\u001b[39;00m e\n\u001b[1;32m    599\u001b[0m \u001b[38;5;28;01mif\u001b[39;00m \u001b[38;5;129;01mnot\u001b[39;00m field_nullable \u001b[38;5;129;01mand\u001b[39;00m result\u001b[38;5;241m.\u001b[39mnull_count \u001b[38;5;241m>\u001b[39m \u001b[38;5;241m0\u001b[39m:\n\u001b[1;32m    600\u001b[0m     \u001b[38;5;28;01mraise\u001b[39;00m \u001b[38;5;167;01mValueError\u001b[39;00m(\u001b[38;5;124m\"\u001b[39m\u001b[38;5;124mField \u001b[39m\u001b[38;5;132;01m{}\u001b[39;00m\u001b[38;5;124m was non-nullable but pandas column \u001b[39m\u001b[38;5;124m\"\u001b[39m\n\u001b[1;32m    601\u001b[0m                      \u001b[38;5;124m\"\u001b[39m\u001b[38;5;124mhad \u001b[39m\u001b[38;5;132;01m{}\u001b[39;00m\u001b[38;5;124m null values\u001b[39m\u001b[38;5;124m\"\u001b[39m\u001b[38;5;241m.\u001b[39mformat(\u001b[38;5;28mstr\u001b[39m(field),\n\u001b[1;32m    602\u001b[0m                                                  result\u001b[38;5;241m.\u001b[39mnull_count))\n",
      "File \u001b[0;32m/N/u/oleykin/BigRed200/SLATE/.conda/envs/tele/lib/python3.12/site-packages/pyarrow/pandas_compat.py:592\u001b[0m, in \u001b[0;36mdataframe_to_arrays.<locals>.convert_column\u001b[0;34m(col, field)\u001b[0m\n\u001b[1;32m    589\u001b[0m     type_ \u001b[38;5;241m=\u001b[39m field\u001b[38;5;241m.\u001b[39mtype\n\u001b[1;32m    591\u001b[0m \u001b[38;5;28;01mtry\u001b[39;00m:\n\u001b[0;32m--> 592\u001b[0m     result \u001b[38;5;241m=\u001b[39m \u001b[43mpa\u001b[49m\u001b[38;5;241;43m.\u001b[39;49m\u001b[43marray\u001b[49m\u001b[43m(\u001b[49m\u001b[43mcol\u001b[49m\u001b[43m,\u001b[49m\u001b[43m \u001b[49m\u001b[38;5;28;43mtype\u001b[39;49m\u001b[38;5;241;43m=\u001b[39;49m\u001b[43mtype_\u001b[49m\u001b[43m,\u001b[49m\u001b[43m \u001b[49m\u001b[43mfrom_pandas\u001b[49m\u001b[38;5;241;43m=\u001b[39;49m\u001b[38;5;28;43;01mTrue\u001b[39;49;00m\u001b[43m,\u001b[49m\u001b[43m \u001b[49m\u001b[43msafe\u001b[49m\u001b[38;5;241;43m=\u001b[39;49m\u001b[43msafe\u001b[49m\u001b[43m)\u001b[49m\n\u001b[1;32m    593\u001b[0m \u001b[38;5;28;01mexcept\u001b[39;00m (pa\u001b[38;5;241m.\u001b[39mArrowInvalid,\n\u001b[1;32m    594\u001b[0m         pa\u001b[38;5;241m.\u001b[39mArrowNotImplementedError,\n\u001b[1;32m    595\u001b[0m         pa\u001b[38;5;241m.\u001b[39mArrowTypeError) \u001b[38;5;28;01mas\u001b[39;00m e:\n\u001b[1;32m    596\u001b[0m     e\u001b[38;5;241m.\u001b[39margs \u001b[38;5;241m+\u001b[39m\u001b[38;5;241m=\u001b[39m (\u001b[38;5;124m\"\u001b[39m\u001b[38;5;124mConversion failed for column \u001b[39m\u001b[38;5;132;01m{!s}\u001b[39;00m\u001b[38;5;124m with type \u001b[39m\u001b[38;5;132;01m{!s}\u001b[39;00m\u001b[38;5;124m\"\u001b[39m\n\u001b[1;32m    597\u001b[0m                \u001b[38;5;241m.\u001b[39mformat(col\u001b[38;5;241m.\u001b[39mname, col\u001b[38;5;241m.\u001b[39mdtype),)\n",
      "File \u001b[0;32m/N/u/oleykin/BigRed200/SLATE/.conda/envs/tele/lib/python3.12/site-packages/pyarrow/array.pxi:339\u001b[0m, in \u001b[0;36mpyarrow.lib.array\u001b[0;34m()\u001b[0m\n",
      "File \u001b[0;32m/N/u/oleykin/BigRed200/SLATE/.conda/envs/tele/lib/python3.12/site-packages/pyarrow/array.pxi:85\u001b[0m, in \u001b[0;36mpyarrow.lib._ndarray_to_array\u001b[0;34m()\u001b[0m\n",
      "File \u001b[0;32m/N/u/oleykin/BigRed200/SLATE/.conda/envs/tele/lib/python3.12/site-packages/pyarrow/error.pxi:91\u001b[0m, in \u001b[0;36mpyarrow.lib.check_status\u001b[0;34m()\u001b[0m\n",
      "\u001b[0;31mArrowInvalid\u001b[0m: ('Invalid null value', 'Conversion failed for column fwd_username with type object')"
     ]
    }
   ],
   "source": [
    "# >>>>>> Export posts\n",
    "import altair as alt\n",
    "t = msg.left_join(channel, msg.channel_id == channel.id)\n",
    "# print(t.columns)\n",
    "t = t.mutate(fwd_title=t['fwd_title'].cast('str'))\n",
    "t = t.mutate(fwd_username=t['fwd_username'].cast('str'))\n",
    "t = t.mutate(fwd_channel_id=t['fwd_channel_id'].cast('str'))\n",
    "\n",
    "cols = [\n",
    "    'id',\n",
    "    'date',\n",
    "    'post_author',\n",
    "    'text',\n",
    "    'mentions',\n",
    "    'total_views',\n",
    "    'total_fwds',\n",
    "    'hidden_edit',\n",
    "    'last_edit_date',\n",
    "    'scheduled',\n",
    "    'via_bot_id',\n",
    "    'noforwards',\n",
    "    'ttl_period',\n",
    "    'reactions',\n",
    "    'fwd_title',\n",
    "    'fwd_username',\n",
    "    'fwd_channel_id',\n",
    "    'title',\n",
    "]\n",
    "# Remove forwards\n",
    "# tNoforwards = t.filter((_.fwd_channel_id == None) & (_.fwd_username == None) & (_.text != None)).select(cols)\n",
    "# tNoforwards.to_csv('noforwards.csv')\n",
    "\n",
    "tForwards = t.filter(((_.fwd_channel_id != None) | (_.fwd_username != None)) & (_.text != None)).select(cols)\n",
    "tForwards.to_csv('forwards.csv')\n"
   ]
  },
  {
   "cell_type": "code",
   "execution_count": null,
   "metadata": {},
   "outputs": [],
   "source": [
    "\n",
    "# group by channel name\n",
    "# chart = (\n",
    "#     alt.Chart(t.group_by(\"title\").aggregate(count=_.count()))\n",
    "#     .mark_bar()\n",
    "#     .encode(\n",
    "#         x=\"title\",\n",
    "#         y=\"count\",\n",
    "#         tooltip=[\"title\", \"count\"],\n",
    "#     )\n",
    "#     .properties(width=1024, height=600)\n",
    "#     .interactive()\n",
    "# )\n",
    "# TODO tihs does it by time, do by date (bad interface)\n",
    "# date.histogram(200)\n",
    "# t = tDisplay.date.histogram(binwidth=3600.0).cast(\"timestamp\").name('bucket')\n",
    "# t = tNoforwards.filter(t.title == \"Медиа Партизаны | Нет войне\").select('date')\n",
    "# chart = (\n",
    "#     alt.Chart(tDisplay.date.histogram(nbins=10))\n",
    "#     .mark_line()\n",
    "#     .encode(\n",
    "#         x=alt.X('date:T'),\n",
    "#         y='count()'\n",
    "#     )\n",
    "#     .properties(width=1024, height=600)\n",
    "#     .interactive()\n",
    "# )\n",
    "\n",
    "# chart"
   ]
  }
 ],
 "metadata": {
  "kernelspec": {
   "display_name": "tele",
   "language": "python",
   "name": "python3"
  },
  "language_info": {
   "codemirror_mode": {
    "name": "ipython",
    "version": 3
   },
   "file_extension": ".py",
   "mimetype": "text/x-python",
   "name": "python",
   "nbconvert_exporter": "python",
   "pygments_lexer": "ipython3",
   "version": "3.12.2"
  }
 },
 "nbformat": 4,
 "nbformat_minor": 2
}
